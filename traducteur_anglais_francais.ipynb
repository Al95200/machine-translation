{
  "nbformat": 4,
  "nbformat_minor": 0,
  "metadata": {
    "kernelspec": {
      "display_name": "Python 3",
      "language": "python",
      "name": "python3"
    },
    "language_info": {
      "codemirror_mode": {
        "name": "ipython",
        "version": 3
      },
      "file_extension": ".py",
      "mimetype": "text/x-python",
      "name": "python",
      "nbconvert_exporter": "python",
      "pygments_lexer": "ipython3",
      "version": "3.6.8"
    },
    "colab": {
      "name": "traducteur_anglais_francais.ipynb",
      "provenance": [],
      "collapsed_sections": [],
      "toc_visible": true,
      "include_colab_link": true
    },
    "accelerator": "GPU"
  },
  "cells": [
    {
      "cell_type": "markdown",
      "metadata": {
        "id": "view-in-github",
        "colab_type": "text"
      },
      "source": [
        "<a href=\"https://colab.research.google.com/github/Al95200/machine-translation/blob/master/traducteur_anglais_francais.ipynb\" target=\"_parent\"><img src=\"https://colab.research.google.com/assets/colab-badge.svg\" alt=\"Open In Colab\"/></a>"
      ]
    },
    {
      "cell_type": "markdown",
      "metadata": {
        "id": "BGGMx2nHRykF",
        "colab_type": "text"
      },
      "source": [
        "# Import all needed modules"
      ]
    },
    {
      "cell_type": "code",
      "metadata": {
        "id": "QjRMQPQSVGLS",
        "colab_type": "code",
        "colab": {
          "base_uri": "https://localhost:8080/",
          "height": 34
        },
        "outputId": "b3d11535-1900-4517-8371-3ce0b9b59e92"
      },
      "source": [
        "import string\n",
        "import re\n",
        "from numpy import array, argmax, random, take\n",
        "import pandas as pd\n",
        "from keras.models import Sequential\n",
        "from keras.layers import Dense, LSTM, Embedding, RepeatVector\n",
        "from keras.preprocessing.text import Tokenizer\n",
        "from keras.callbacks import ModelCheckpoint\n",
        "from keras.preprocessing.sequence import pad_sequences\n",
        "from keras.models import load_model\n",
        "from keras import optimizers\n",
        "import matplotlib.pyplot as plt\n",
        "%matplotlib inline\n",
        "pd.set_option('display.max_colwidth', 200)"
      ],
      "execution_count": null,
      "outputs": [
        {
          "output_type": "stream",
          "text": [
            "Using TensorFlow backend.\n"
          ],
          "name": "stderr"
        }
      ]
    },
    {
      "cell_type": "markdown",
      "metadata": {
        "id": "eYTo_Me-SGxf",
        "colab_type": "text"
      },
      "source": [
        "# Loading dataset "
      ]
    },
    {
      "cell_type": "code",
      "metadata": {
        "id": "XDPWixH7VGLk",
        "colab_type": "code",
        "colab": {
          "base_uri": "https://localhost:8080/",
          "height": 34
        },
        "outputId": "6a40f973-64bd-48e8-8a55-0f0537fdc19a"
      },
      "source": [
        "with open(\"small_vocab_fr.txt\") as f1, open(\"small_vocab_en.txt\") as f2:\n",
        "       line_file1 = f1.readlines()\n",
        "       line_file2 = f2.readlines()\n",
        "       print(len(line_file1), len(line_file2))"
      ],
      "execution_count": null,
      "outputs": [
        {
          "output_type": "stream",
          "text": [
            "137860 137860\n"
          ],
          "name": "stdout"
        }
      ]
    },
    {
      "cell_type": "code",
      "metadata": {
        "id": "yUsw54WCVGLr",
        "colab_type": "code",
        "colab": {}
      },
      "source": [
        "temp = []\n",
        "fr_eng = []\n",
        "for fr, en in zip(line_file1, line_file2):\n",
        "    temp.append(en)\n",
        "    temp.append(fr)\n",
        "    fr_eng.append(temp)\n",
        "    temp = []"
      ],
      "execution_count": null,
      "outputs": []
    },
    {
      "cell_type": "code",
      "metadata": {
        "id": "pLYvom57VGLw",
        "colab_type": "code",
        "colab": {}
      },
      "source": [
        "fr_eng = array(fr_eng)"
      ],
      "execution_count": null,
      "outputs": []
    },
    {
      "cell_type": "markdown",
      "metadata": {
        "id": "TbFnttl7SPuF",
        "colab_type": "text"
      },
      "source": [
        "If you don't want to use all the rows to feed the neural network, uncomment next code chunk"
      ]
    },
    {
      "cell_type": "code",
      "metadata": {
        "id": "dODNrdErSNez",
        "colab_type": "code",
        "colab": {}
      },
      "source": [
        "# fr_eng = fr_eng[:50000,:]"
      ],
      "execution_count": null,
      "outputs": []
    },
    {
      "cell_type": "markdown",
      "metadata": {
        "id": "RW3UXR_ESoH6",
        "colab_type": "text"
      },
      "source": [
        "## Preprocessing"
      ]
    },
    {
      "cell_type": "markdown",
      "metadata": {
        "id": "6COvceZCS9d6",
        "colab_type": "text"
      },
      "source": [
        "In this section, we prepare our data to fit the neural network. We do all needed preprocessing steps (removing punctuation, lowercase all sentences, build tokenizer)\n"
      ]
    },
    {
      "cell_type": "code",
      "metadata": {
        "id": "S6ANzXMAVGL9",
        "colab_type": "code",
        "colab": {
          "base_uri": "https://localhost:8080/",
          "height": 252
        },
        "outputId": "ef4d11e2-9a55-4378-e65b-2a4c45b540f7"
      },
      "source": [
        "fr_eng[:,0] = [s.translate(str.maketrans('', '', string.punctuation)) for s in fr_eng[:,0]]\n",
        "fr_eng[:,1] = [s.translate(str.maketrans('', '', string.punctuation)) for s in fr_eng[:,1]]\n",
        "\n",
        "fr_eng"
      ],
      "execution_count": null,
      "outputs": [
        {
          "output_type": "execute_result",
          "data": {
            "text/plain": [
              "array([['new jersey is sometimes quiet during autumn  and it is snowy in april \\n',\n",
              "        'new jersey est parfois calme pendant l automne  et il est neigeux en avril \\n'],\n",
              "       ['the united states is usually chilly during july  and it is usually freezing in november \\n',\n",
              "        'les étatsunis est généralement froid en juillet  et il gèle habituellement en novembre \\n'],\n",
              "       ['california is usually quiet during march  and it is usually hot in june \\n',\n",
              "        'california est généralement calme en mars  et il est généralement chaud en juin \\n'],\n",
              "       ...,\n",
              "       ['india is never wet during summer  but it is sometimes chilly in winter \\n',\n",
              "        'l inde est jamais mouillé pendant l été  mais il est parfois froid en hiver \\n'],\n",
              "       ['france is never chilly during january  but it is never mild in october \\n',\n",
              "        'la france est jamais froid en janvier  mais il est jamais doux en octobre \\n'],\n",
              "       ['the orange is her favorite fruit  but the banana is your favorite \\n',\n",
              "        'lorange est son fruit préféré  mais la banane est votre favori \\n']],\n",
              "      dtype='<U115')"
            ]
          },
          "metadata": {
            "tags": []
          },
          "execution_count": 8
        }
      ]
    },
    {
      "cell_type": "code",
      "metadata": {
        "id": "2UzyvGnrVGMC",
        "colab_type": "code",
        "colab": {
          "base_uri": "https://localhost:8080/",
          "height": 252
        },
        "outputId": "6c49db16-ef90-4f6f-880d-41b24224df2a"
      },
      "source": [
        "for i in range(len(fr_eng)):\n",
        "    fr_eng[i,0] = fr_eng[i,0].lower()\n",
        "    fr_eng[i,1] = fr_eng[i,1].lower()\n",
        "\n",
        "fr_eng"
      ],
      "execution_count": null,
      "outputs": [
        {
          "output_type": "execute_result",
          "data": {
            "text/plain": [
              "array([['new jersey is sometimes quiet during autumn  and it is snowy in april \\n',\n",
              "        'new jersey est parfois calme pendant l automne  et il est neigeux en avril \\n'],\n",
              "       ['the united states is usually chilly during july  and it is usually freezing in november \\n',\n",
              "        'les étatsunis est généralement froid en juillet  et il gèle habituellement en novembre \\n'],\n",
              "       ['california is usually quiet during march  and it is usually hot in june \\n',\n",
              "        'california est généralement calme en mars  et il est généralement chaud en juin \\n'],\n",
              "       ...,\n",
              "       ['india is never wet during summer  but it is sometimes chilly in winter \\n',\n",
              "        'l inde est jamais mouillé pendant l été  mais il est parfois froid en hiver \\n'],\n",
              "       ['france is never chilly during january  but it is never mild in october \\n',\n",
              "        'la france est jamais froid en janvier  mais il est jamais doux en octobre \\n'],\n",
              "       ['the orange is her favorite fruit  but the banana is your favorite \\n',\n",
              "        'lorange est son fruit préféré  mais la banane est votre favori \\n']],\n",
              "      dtype='<U115')"
            ]
          },
          "metadata": {
            "tags": []
          },
          "execution_count": 9
        }
      ]
    },
    {
      "cell_type": "code",
      "metadata": {
        "id": "_23D1WvbVGML",
        "colab_type": "code",
        "colab": {}
      },
      "source": [
        "def tokenization(lines):\n",
        "      tokenizer = Tokenizer()\n",
        "      tokenizer.fit_on_texts(lines)\n",
        "      return tokenizer"
      ],
      "execution_count": null,
      "outputs": []
    },
    {
      "cell_type": "code",
      "metadata": {
        "id": "D9Uu657GVGMQ",
        "colab_type": "code",
        "colab": {
          "base_uri": "https://localhost:8080/",
          "height": 34
        },
        "outputId": "d59e1d41-b335-43ba-fd15-14748c8c3f53"
      },
      "source": [
        "eng_tokenizer = tokenization(fr_eng[:, 0])\n",
        "eng_vocab_size = len(eng_tokenizer.word_index) + 1\n",
        "\n",
        "eng_length = 20\n",
        "print('English Vocabulary Size: %d' % eng_vocab_size)"
      ],
      "execution_count": null,
      "outputs": [
        {
          "output_type": "stream",
          "text": [
            "English Vocabulary Size: 200\n"
          ],
          "name": "stdout"
        }
      ]
    },
    {
      "cell_type": "code",
      "metadata": {
        "id": "ak1QlYR6VGMV",
        "colab_type": "code",
        "colab": {
          "base_uri": "https://localhost:8080/",
          "height": 34
        },
        "outputId": "b2f13e09-b0d6-4a0c-c771-9587d5c96c0c"
      },
      "source": [
        "fr_tokenizer = tokenization(fr_eng[:, 1])\n",
        "fr_vocab_size = len(fr_tokenizer.word_index) + 1\n",
        "\n",
        "fr_length = 20\n",
        "print('French Vocabulary Size: %d' % fr_vocab_size)"
      ],
      "execution_count": null,
      "outputs": [
        {
          "output_type": "stream",
          "text": [
            "French Vocabulary Size: 345\n"
          ],
          "name": "stdout"
        }
      ]
    },
    {
      "cell_type": "code",
      "metadata": {
        "id": "ejJ7Z9r9VGMZ",
        "colab_type": "code",
        "colab": {}
      },
      "source": [
        "def encode_sequences(tokenizer, length, lines):\n",
        "         seq = tokenizer.texts_to_sequences(lines)\n",
        "         seq = pad_sequences(seq, maxlen=length, padding='post')\n",
        "         return seq"
      ],
      "execution_count": null,
      "outputs": []
    },
    {
      "cell_type": "markdown",
      "metadata": {
        "id": "0hIqZ8FhTsT2",
        "colab_type": "text"
      },
      "source": [
        "# Finally we build our model"
      ]
    },
    {
      "cell_type": "markdown",
      "metadata": {
        "id": "2pzecgeXVLw-",
        "colab_type": "text"
      },
      "source": [
        "## We convert our word sequence as one hot encoded vector sequence for the neural network"
      ]
    },
    {
      "cell_type": "code",
      "metadata": {
        "id": "xfUrQFz4VGMc",
        "colab_type": "code",
        "colab": {}
      },
      "source": [
        "from sklearn.model_selection import train_test_split\n",
        "\n",
        "train, test = train_test_split(fr_eng, test_size=0.2, random_state = 12)"
      ],
      "execution_count": null,
      "outputs": []
    },
    {
      "cell_type": "code",
      "metadata": {
        "id": "ReOT9X3iVGMg",
        "colab_type": "code",
        "colab": {}
      },
      "source": [
        "trainX = encode_sequences(fr_tokenizer, fr_length, train[:, 1])\n",
        "trainY = encode_sequences(eng_tokenizer, eng_length, train[:, 0])\n",
        "\n",
        "testX = encode_sequences(fr_tokenizer, fr_length, test[:, 1])\n",
        "testY = encode_sequences(eng_tokenizer, eng_length, test[:, 0])"
      ],
      "execution_count": null,
      "outputs": []
    },
    {
      "cell_type": "markdown",
      "metadata": {
        "id": "A2LZv0ZEUylM",
        "colab_type": "text"
      },
      "source": [
        "## Building the Neural Machine Translation model\n"
      ]
    },
    {
      "cell_type": "code",
      "metadata": {
        "id": "DWoxeywfVGMk",
        "colab_type": "code",
        "colab": {}
      },
      "source": [
        "def define_model(in_vocab,out_vocab, in_timesteps,out_timesteps,units):\n",
        "      model = Sequential()\n",
        "      model.add(Embedding(in_vocab, units, input_length=in_timesteps, mask_zero=True))\n",
        "      model.add(LSTM(units))\n",
        "      model.add(RepeatVector(out_timesteps))\n",
        "      model.add(LSTM(units, return_sequences=True))\n",
        "      model.add(Dense(out_vocab, activation='softmax'))\n",
        "      return model"
      ],
      "execution_count": null,
      "outputs": []
    },
    {
      "cell_type": "code",
      "metadata": {
        "id": "klfUfD1CVGMo",
        "colab_type": "code",
        "colab": {}
      },
      "source": [
        "model = define_model(fr_vocab_size, eng_vocab_size, fr_length, eng_length, 512)"
      ],
      "execution_count": null,
      "outputs": []
    },
    {
      "cell_type": "code",
      "metadata": {
        "id": "6o9MhOhzVGMt",
        "colab_type": "code",
        "colab": {}
      },
      "source": [
        "rms = optimizers.RMSprop(lr=0.001)\n",
        "model.compile(optimizer=rms, loss='sparse_categorical_crossentropy')"
      ],
      "execution_count": null,
      "outputs": []
    },
    {
      "cell_type": "code",
      "metadata": {
        "id": "SaeSGXxbVGMw",
        "colab_type": "code",
        "colab": {
          "base_uri": "https://localhost:8080/",
          "height": 1000
        },
        "outputId": "4ca58059-dc95-4087-a548-b6b21085f094"
      },
      "source": [
        "filename = 'model.h1.15_07_2020'\n",
        "checkpoint = ModelCheckpoint(filename, monitor='val_loss', verbose=1, save_best_only=True, mode='min')\n",
        "\n",
        "history = model.fit(trainX, trainY.reshape(trainY.shape[0], trainY.shape[1], 1),\n",
        "                    epochs=30, batch_size=512, validation_split = 0.2,callbacks=[checkpoint], \n",
        "                    verbose=1)"
      ],
      "execution_count": null,
      "outputs": [
        {
          "output_type": "stream",
          "text": [
            "/usr/local/lib/python3.6/dist-packages/tensorflow/python/framework/indexed_slices.py:434: UserWarning: Converting sparse IndexedSlices to a dense Tensor of unknown shape. This may consume a large amount of memory.\n",
            "  \"Converting sparse IndexedSlices to a dense Tensor of unknown shape. \"\n"
          ],
          "name": "stderr"
        },
        {
          "output_type": "stream",
          "text": [
            "Train on 88230 samples, validate on 22058 samples\n",
            "Epoch 1/30\n",
            "88230/88230 [==============================] - 22s 250us/step - loss: 2.0961 - val_loss: 1.3472\n",
            "\n",
            "Epoch 00001: val_loss improved from inf to 1.34716, saving model to model.h1.15_07_2020\n",
            "Epoch 2/30\n",
            "88230/88230 [==============================] - 20s 224us/step - loss: 1.1178 - val_loss: 0.7583\n",
            "\n",
            "Epoch 00002: val_loss improved from 1.34716 to 0.75829, saving model to model.h1.15_07_2020\n",
            "Epoch 3/30\n",
            "88230/88230 [==============================] - 20s 223us/step - loss: 0.7429 - val_loss: 0.5764\n",
            "\n",
            "Epoch 00003: val_loss improved from 0.75829 to 0.57641, saving model to model.h1.15_07_2020\n",
            "Epoch 4/30\n",
            "88230/88230 [==============================] - 20s 224us/step - loss: 0.5793 - val_loss: 0.4842\n",
            "\n",
            "Epoch 00004: val_loss improved from 0.57641 to 0.48424, saving model to model.h1.15_07_2020\n",
            "Epoch 5/30\n",
            "88230/88230 [==============================] - 20s 222us/step - loss: 0.4565 - val_loss: 0.3603\n",
            "\n",
            "Epoch 00005: val_loss improved from 0.48424 to 0.36027, saving model to model.h1.15_07_2020\n",
            "Epoch 6/30\n",
            "88230/88230 [==============================] - 20s 223us/step - loss: 0.3323 - val_loss: 0.2675\n",
            "\n",
            "Epoch 00006: val_loss improved from 0.36027 to 0.26747, saving model to model.h1.15_07_2020\n",
            "Epoch 7/30\n",
            "88230/88230 [==============================] - 20s 227us/step - loss: 0.2282 - val_loss: 0.1462\n",
            "\n",
            "Epoch 00007: val_loss improved from 0.26747 to 0.14620, saving model to model.h1.15_07_2020\n",
            "Epoch 8/30\n",
            "88230/88230 [==============================] - 20s 225us/step - loss: 0.1357 - val_loss: 0.0644\n",
            "\n",
            "Epoch 00008: val_loss improved from 0.14620 to 0.06441, saving model to model.h1.15_07_2020\n",
            "Epoch 9/30\n",
            "88230/88230 [==============================] - 20s 223us/step - loss: 0.0727 - val_loss: 0.0381\n",
            "\n",
            "Epoch 00009: val_loss improved from 0.06441 to 0.03808, saving model to model.h1.15_07_2020\n",
            "Epoch 10/30\n",
            "88230/88230 [==============================] - 20s 222us/step - loss: 0.0496 - val_loss: 0.0399\n",
            "\n",
            "Epoch 00010: val_loss did not improve from 0.03808\n",
            "Epoch 11/30\n",
            "88230/88230 [==============================] - 20s 223us/step - loss: 0.0508 - val_loss: 0.0285\n",
            "\n",
            "Epoch 00011: val_loss improved from 0.03808 to 0.02849, saving model to model.h1.15_07_2020\n",
            "Epoch 12/30\n",
            "88230/88230 [==============================] - 20s 224us/step - loss: 0.0329 - val_loss: 0.0501\n",
            "\n",
            "Epoch 00012: val_loss did not improve from 0.02849\n",
            "Epoch 13/30\n",
            "88230/88230 [==============================] - 20s 223us/step - loss: 0.0344 - val_loss: 0.0271\n",
            "\n",
            "Epoch 00013: val_loss improved from 0.02849 to 0.02705, saving model to model.h1.15_07_2020\n",
            "Epoch 14/30\n",
            "88230/88230 [==============================] - 20s 224us/step - loss: 0.0322 - val_loss: 0.0262\n",
            "\n",
            "Epoch 00014: val_loss improved from 0.02705 to 0.02615, saving model to model.h1.15_07_2020\n",
            "Epoch 15/30\n",
            "88230/88230 [==============================] - 20s 224us/step - loss: 0.0278 - val_loss: 0.0275\n",
            "\n",
            "Epoch 00015: val_loss did not improve from 0.02615\n",
            "Epoch 16/30\n",
            "88230/88230 [==============================] - 20s 225us/step - loss: 0.0277 - val_loss: 0.0248\n",
            "\n",
            "Epoch 00016: val_loss improved from 0.02615 to 0.02485, saving model to model.h1.15_07_2020\n",
            "Epoch 17/30\n",
            "88230/88230 [==============================] - 20s 224us/step - loss: 0.0339 - val_loss: 0.0252\n",
            "\n",
            "Epoch 00017: val_loss did not improve from 0.02485\n",
            "Epoch 18/30\n",
            "88230/88230 [==============================] - 19s 220us/step - loss: 0.0233 - val_loss: 0.0267\n",
            "\n",
            "Epoch 00018: val_loss did not improve from 0.02485\n",
            "Epoch 19/30\n",
            "88230/88230 [==============================] - 20s 222us/step - loss: 0.0283 - val_loss: 0.0248\n",
            "\n",
            "Epoch 00019: val_loss improved from 0.02485 to 0.02476, saving model to model.h1.15_07_2020\n",
            "Epoch 20/30\n",
            "88230/88230 [==============================] - 20s 225us/step - loss: 0.0224 - val_loss: 0.0270\n",
            "\n",
            "Epoch 00020: val_loss did not improve from 0.02476\n",
            "Epoch 21/30\n",
            "88230/88230 [==============================] - 20s 225us/step - loss: 0.0245 - val_loss: 0.0263\n",
            "\n",
            "Epoch 00021: val_loss did not improve from 0.02476\n",
            "Epoch 22/30\n",
            "88230/88230 [==============================] - 20s 222us/step - loss: 0.0199 - val_loss: 0.0274\n",
            "\n",
            "Epoch 00022: val_loss did not improve from 0.02476\n",
            "Epoch 23/30\n",
            "88230/88230 [==============================] - 20s 226us/step - loss: 0.0188 - val_loss: 0.0280\n",
            "\n",
            "Epoch 00023: val_loss did not improve from 0.02476\n",
            "Epoch 24/30\n",
            "88230/88230 [==============================] - 20s 223us/step - loss: 0.0177 - val_loss: 0.0263\n",
            "\n",
            "Epoch 00024: val_loss did not improve from 0.02476\n",
            "Epoch 25/30\n",
            "88230/88230 [==============================] - 20s 223us/step - loss: 0.0174 - val_loss: 0.0263\n",
            "\n",
            "Epoch 00025: val_loss did not improve from 0.02476\n",
            "Epoch 26/30\n",
            "88230/88230 [==============================] - 20s 222us/step - loss: 0.0180 - val_loss: 0.0266\n",
            "\n",
            "Epoch 00026: val_loss did not improve from 0.02476\n",
            "Epoch 27/30\n",
            "88230/88230 [==============================] - 20s 222us/step - loss: 0.0145 - val_loss: 0.0290\n",
            "\n",
            "Epoch 00027: val_loss did not improve from 0.02476\n",
            "Epoch 28/30\n",
            "88230/88230 [==============================] - 20s 225us/step - loss: 0.0135 - val_loss: 0.0303\n",
            "\n",
            "Epoch 00028: val_loss did not improve from 0.02476\n",
            "Epoch 29/30\n",
            "88230/88230 [==============================] - 20s 223us/step - loss: 0.0127 - val_loss: 0.0316\n",
            "\n",
            "Epoch 00029: val_loss did not improve from 0.02476\n",
            "Epoch 30/30\n",
            "88230/88230 [==============================] - 20s 222us/step - loss: 0.0117 - val_loss: 0.0329\n",
            "\n",
            "Epoch 00030: val_loss did not improve from 0.02476\n"
          ],
          "name": "stdout"
        }
      ]
    },
    {
      "cell_type": "code",
      "metadata": {
        "id": "XE5RBnR1VGMz",
        "colab_type": "code",
        "colab": {
          "base_uri": "https://localhost:8080/",
          "height": 265
        },
        "outputId": "f18c65c7-d3fa-4cf9-c5e1-ed71c27e6825"
      },
      "source": [
        "plt.plot(history.history['loss'])\n",
        "plt.plot(history.history['val_loss'])\n",
        "plt.legend(['train','validation'])\n",
        "plt.show()"
      ],
      "execution_count": null,
      "outputs": [
        {
          "output_type": "display_data",
          "data": {
            "image/png": "[encoded data removed]",
            "text/plain": [
              "<Figure size 432x288 with 1 Axes>"
            ]
          },
          "metadata": {
            "tags": [],
            "needs_background": "light"
          }
        }
      ]
    },
    {
      "cell_type": "code",
      "metadata": {
        "id": "va5LFEFEVGM2",
        "colab_type": "code",
        "colab": {
          "base_uri": "https://localhost:8080/",
          "height": 70
        },
        "outputId": "eb3add77-3cad-4566-bf10-b6e2f0e47cc2"
      },
      "source": [
        "model = load_model('model.h1.15_07_2020')\n",
        "preds = model.predict_classes(testX.reshape((testX.shape[0],testX.shape[1])))"
      ],
      "execution_count": null,
      "outputs": [
        {
          "output_type": "stream",
          "text": [
            "/usr/local/lib/python3.6/dist-packages/tensorflow/python/framework/indexed_slices.py:434: UserWarning: Converting sparse IndexedSlices to a dense Tensor of unknown shape. This may consume a large amount of memory.\n",
            "  \"Converting sparse IndexedSlices to a dense Tensor of unknown shape. \"\n"
          ],
          "name": "stderr"
        }
      ]
    },
    {
      "cell_type": "code",
      "metadata": {
        "id": "jQnKOeqRVGM6",
        "colab_type": "code",
        "colab": {
          "base_uri": "https://localhost:8080/",
          "height": 134
        },
        "outputId": "7c1d7f56-b1c0-4df0-9ad6-ba95d47b2a31"
      },
      "source": [
        "preds"
      ],
      "execution_count": null,
      "outputs": [
        {
          "output_type": "execute_result",
          "data": {
            "text/plain": [
              "array([[ 29,  11,  13, ...,   0,   0,   0],\n",
              "       [ 24,   1,  10, ...,   0,   0,   0],\n",
              "       [  5,  86,   1, ...,   0,   0,   0],\n",
              "       ...,\n",
              "       [151, 145,  81, ...,   0,   0,   0],\n",
              "       [ 19,   1,  66, ...,   0,   0,   0],\n",
              "       [  5,  85,   1, ...,   0,   0,   0]])"
            ]
          },
          "metadata": {
            "tags": []
          },
          "execution_count": 23
        }
      ]
    },
    {
      "cell_type": "markdown",
      "metadata": {
        "id": "I1_4AHKBUV0o",
        "colab_type": "text"
      },
      "source": [
        "Here, we decode our one hot vector sequence to print predicted translated word sequence"
      ]
    },
    {
      "cell_type": "code",
      "metadata": {
        "id": "yDqD0YnNVGM9",
        "colab_type": "code",
        "colab": {}
      },
      "source": [
        "def get_word(n, tokenizer):\n",
        "      for word, index in tokenizer.word_index.items():\n",
        "          if index == n:\n",
        "              return word\n",
        "      return None"
      ],
      "execution_count": null,
      "outputs": []
    },
    {
      "cell_type": "code",
      "metadata": {
        "id": "_NE2KtOxVGNA",
        "colab_type": "code",
        "colab": {}
      },
      "source": [
        "preds_text = []\n",
        "for i in preds:\n",
        "       temp = []\n",
        "       for j in range(len(i)):\n",
        "            t = get_word(i[j], eng_tokenizer)\n",
        "            if j > 0:\n",
        "                if (t == get_word(i[j-1], eng_tokenizer)) or (t == None):\n",
        "                     temp.append('')\n",
        "                else:\n",
        "                     temp.append(t)\n",
        "            else:\n",
        "                   if(t == None):\n",
        "                          temp.append('')\n",
        "                   else:\n",
        "                          temp.append(t) \n",
        "\n",
        "       preds_text.append(' '.join(temp))"
      ],
      "execution_count": null,
      "outputs": []
    },
    {
      "cell_type": "code",
      "metadata": {
        "id": "Sr2hFp33VGNJ",
        "colab_type": "code",
        "colab": {}
      },
      "source": [
        "pred_df = pd.DataFrame({'predicted' : preds_text, 'actual' : test[:,0]})"
      ],
      "execution_count": null,
      "outputs": []
    },
    {
      "cell_type": "markdown",
      "metadata": {
        "id": "qbitPSR7Ui10",
        "colab_type": "text"
      },
      "source": [
        "## Display some of the predicted and actual translation\n",
        "\n",
        "\n"
      ]
    },
    {
      "cell_type": "code",
      "metadata": {
        "id": "t0WoJuv9VGNN",
        "colab_type": "code",
        "colab": {
          "base_uri": "https://localhost:8080/",
          "height": 1000
        },
        "outputId": "2a7e5e04-c236-47b5-e74e-cac1f1849bad"
      },
      "source": [
        "pred_df.sample(50)"
      ],
      "execution_count": null,
      "outputs": [
        {
          "output_type": "execute_result",
          "data": {
            "text/html": [
              "<div>\n",
              "<style scoped>\n",
              "    .dataframe tbody tr th:only-of-type {\n",
              "        vertical-align: middle;\n",
              "    }\n",
              "\n",
              "    .dataframe tbody tr th {\n",
              "        vertical-align: top;\n",
              "    }\n",
              "\n",
              "    .dataframe thead th {\n",
              "        text-align: right;\n",
              "    }\n",
              "</style>\n",
              "<table border=\"1\" class=\"dataframe\">\n",
              "  <thead>\n",
              "    <tr style=\"text-align: right;\">\n",
              "      <th></th>\n",
              "      <th>predicted</th>\n",
              "      <th>actual</th>\n",
              "    </tr>\n",
              "  </thead>\n",
              "  <tbody>\n",
              "    <tr>\n",
              "      <th>15880</th>\n",
              "      <td>california is never busy during fall and it is usually nice in may</td>\n",
              "      <td>california is never busy during fall  and it is usually pleasant in may \\n</td>\n",
              "    </tr>\n",
              "    <tr>\n",
              "      <th>17972</th>\n",
              "      <td>the orange is my most loved fruit but the grape is your most loved</td>\n",
              "      <td>the orange is my most loved fruit  but the grape is your most loved \\n</td>\n",
              "    </tr>\n",
              "    <tr>\n",
              "      <th>24585</th>\n",
              "      <td>he likes peaches grapefruit and strawberries</td>\n",
              "      <td>he likes peaches  grapefruit  and strawberries \\n</td>\n",
              "    </tr>\n",
              "    <tr>\n",
              "      <th>5729</th>\n",
              "      <td>my favorite fruit is the pear but her favorite is the lemon</td>\n",
              "      <td>my favorite fruit is the pear  but her favorite is the lemon \\n</td>\n",
              "    </tr>\n",
              "    <tr>\n",
              "      <th>12862</th>\n",
              "      <td>the grape is your least favorite fruit but the lemon is my least favorite</td>\n",
              "      <td>the grape is your least favorite fruit  but the lemon is my least favorite \\n</td>\n",
              "    </tr>\n",
              "    <tr>\n",
              "      <th>12664</th>\n",
              "      <td>she was driving that old black car</td>\n",
              "      <td>she was driving that old black automobile \\n</td>\n",
              "    </tr>\n",
              "    <tr>\n",
              "      <th>23511</th>\n",
              "      <td>india is usually beautiful during may but it is never quiet in september</td>\n",
              "      <td>india is usually beautiful during may  but it is never quiet in september \\n</td>\n",
              "    </tr>\n",
              "    <tr>\n",
              "      <th>18470</th>\n",
              "      <td>our least favorite fruit is the orange but their least favorite is the apple</td>\n",
              "      <td>our least favorite fruit is the orange  but their least favorite is the apple \\n</td>\n",
              "    </tr>\n",
              "    <tr>\n",
              "      <th>8999</th>\n",
              "      <td>paris is usually rainy during winter but it is usually busy in summer</td>\n",
              "      <td>paris is usually rainy during winter  but it is usually busy in summer \\n</td>\n",
              "    </tr>\n",
              "    <tr>\n",
              "      <th>4230</th>\n",
              "      <td>paris is sometimes relaxing during summer but it is rainy in march</td>\n",
              "      <td>paris is sometimes relaxing during summer  but it is rainy in march \\n</td>\n",
              "    </tr>\n",
              "    <tr>\n",
              "      <th>22672</th>\n",
              "      <td>she dislikes pears and apples</td>\n",
              "      <td>she dislikes pears and apples \\n</td>\n",
              "    </tr>\n",
              "    <tr>\n",
              "      <th>26225</th>\n",
              "      <td>china is quiet during september and it is sometimes busy in march</td>\n",
              "      <td>china is quiet during september  and it is sometimes busy in march \\n</td>\n",
              "    </tr>\n",
              "    <tr>\n",
              "      <th>11181</th>\n",
              "      <td>the peach is her least favorite fruit but the pear is her least favorite</td>\n",
              "      <td>the peach is her least favorite fruit  but the pear is his least favorite \\n</td>\n",
              "    </tr>\n",
              "    <tr>\n",
              "      <th>21261</th>\n",
              "      <td>the strawberry is your favorite fruit but the apple is her favorite</td>\n",
              "      <td>the strawberry is your favorite fruit  but the apple is his favorite\\n</td>\n",
              "    </tr>\n",
              "    <tr>\n",
              "      <th>12462</th>\n",
              "      <td>her least favorite fruit is the apple but my least favorite is the orange</td>\n",
              "      <td>his least favorite fruit is the apple  but my least favorite is the orange \\n</td>\n",
              "    </tr>\n",
              "    <tr>\n",
              "      <th>10124</th>\n",
              "      <td>she likes a shiny white car</td>\n",
              "      <td>she likes a shiny white car \\n</td>\n",
              "    </tr>\n",
              "    <tr>\n",
              "      <th>21887</th>\n",
              "      <td>they dislike grapefruit and grapes</td>\n",
              "      <td>they dislike grapefruit and grapes \\n</td>\n",
              "    </tr>\n",
              "    <tr>\n",
              "      <th>5755</th>\n",
              "      <td>her most feared animal was this bear</td>\n",
              "      <td>her most feared animal was that bear \\n</td>\n",
              "    </tr>\n",
              "    <tr>\n",
              "      <th>4349</th>\n",
              "      <td>the grape is their favorite fruit but the mango is your favorite</td>\n",
              "      <td>the grape is their favorite fruit  but the mango is your favorite \\n</td>\n",
              "    </tr>\n",
              "    <tr>\n",
              "      <th>16880</th>\n",
              "      <td>she was driving the big red automobile</td>\n",
              "      <td>she was driving the big red automobile \\n</td>\n",
              "    </tr>\n",
              "    <tr>\n",
              "      <th>14990</th>\n",
              "      <td>the lemon is their most loved fruit but the pear is her most loved</td>\n",
              "      <td>the lemon is their most loved fruit  but the pear is her most loved \\n</td>\n",
              "    </tr>\n",
              "    <tr>\n",
              "      <th>1737</th>\n",
              "      <td>he dislikes apples oranges and mangoes</td>\n",
              "      <td>he dislikes apples  oranges  and mangoes \\n</td>\n",
              "    </tr>\n",
              "    <tr>\n",
              "      <th>15838</th>\n",
              "      <td>the grapefruit is my least liked fruit but the grape is your least liked</td>\n",
              "      <td>the grapefruit is my least liked fruit  but the grape is your least liked \\n</td>\n",
              "    </tr>\n",
              "    <tr>\n",
              "      <th>3532</th>\n",
              "      <td>new jersey is rainy during april but it is freezing in september</td>\n",
              "      <td>new jersey is rainy during april  but it is freezing in september \\n</td>\n",
              "    </tr>\n",
              "    <tr>\n",
              "      <th>8814</th>\n",
              "      <td>france is sometimes rainy during autumn but it is never snowy in april</td>\n",
              "      <td>france is sometimes rainy during autumn  but it is never snowy in april \\n</td>\n",
              "    </tr>\n",
              "    <tr>\n",
              "      <th>10584</th>\n",
              "      <td>india is never hot during fall and it is sometimes cold in january</td>\n",
              "      <td>india is never hot during autumn  and it is sometimes cold in january \\n</td>\n",
              "    </tr>\n",
              "    <tr>\n",
              "      <th>24150</th>\n",
              "      <td>her most loved fruit is the apple but my most loved is the peach</td>\n",
              "      <td>her most loved fruit is the apple  but my most loved is the peach \\n</td>\n",
              "    </tr>\n",
              "    <tr>\n",
              "      <th>25080</th>\n",
              "      <td>california is nice during spring but it is usually beautiful in august</td>\n",
              "      <td>california is pleasant during spring  but it is usually beautiful in august \\n</td>\n",
              "    </tr>\n",
              "    <tr>\n",
              "      <th>8973</th>\n",
              "      <td>california is sometimes mild during april but it is never beautiful in february</td>\n",
              "      <td>california is sometimes mild during april  but it is never beautiful in february \\n</td>\n",
              "    </tr>\n",
              "    <tr>\n",
              "      <th>20663</th>\n",
              "      <td>her least liked fruit is the grape but my least liked is the pear</td>\n",
              "      <td>her least liked fruit is the grape  but my least liked is the pear\\n</td>\n",
              "    </tr>\n",
              "    <tr>\n",
              "      <th>21192</th>\n",
              "      <td>he likes the big black car</td>\n",
              "      <td>he likes the big black automobile \\n</td>\n",
              "    </tr>\n",
              "    <tr>\n",
              "      <th>9539</th>\n",
              "      <td>paris is sometimes busy during may but it is never wet in october</td>\n",
              "      <td>paris is sometimes busy during may  but it is never wet in october \\n</td>\n",
              "    </tr>\n",
              "    <tr>\n",
              "      <th>14486</th>\n",
              "      <td>he was driving the old black automobile</td>\n",
              "      <td>he was driving the old black car \\n</td>\n",
              "    </tr>\n",
              "    <tr>\n",
              "      <th>11568</th>\n",
              "      <td>paris is never wet during autumn and it is sometimes freezing in winter</td>\n",
              "      <td>paris is never wet during autumn  and it is sometimes freezing in winter \\n</td>\n",
              "    </tr>\n",
              "    <tr>\n",
              "      <th>14611</th>\n",
              "      <td>he likes limes strawberries and lemons</td>\n",
              "      <td>he likes strawberries  limes  and lemons \\n</td>\n",
              "    </tr>\n",
              "    <tr>\n",
              "      <th>4876</th>\n",
              "      <td>california is usually dry during september but it is usually busy in may</td>\n",
              "      <td>california is usually dry during september  but it is usually busy in may \\n</td>\n",
              "    </tr>\n",
              "    <tr>\n",
              "      <th>23908</th>\n",
              "      <td>their favorite fruit is the strawberry but my favorite is the lime</td>\n",
              "      <td>their favorite fruit is the strawberry  but my favorite is the lime\\n</td>\n",
              "    </tr>\n",
              "    <tr>\n",
              "      <th>10575</th>\n",
              "      <td>india is chilly during february and it is never dry in june</td>\n",
              "      <td>india is cold during february  and it is never dry in june \\n</td>\n",
              "    </tr>\n",
              "    <tr>\n",
              "      <th>12443</th>\n",
              "      <td>we dislike mangoes limes and peaches</td>\n",
              "      <td>we dislike mangoes  limes  and peaches\\n</td>\n",
              "    </tr>\n",
              "    <tr>\n",
              "      <th>16802</th>\n",
              "      <td>california is never pleasant during fall but it is usually busy in february</td>\n",
              "      <td>california is never pleasant during autumn  but it is usually busy in february \\n</td>\n",
              "    </tr>\n",
              "    <tr>\n",
              "      <th>14839</th>\n",
              "      <td>the strawberry is her least liked fruit but the peach is our least liked</td>\n",
              "      <td>the strawberry is her least liked fruit  but the peach is our least liked \\n</td>\n",
              "    </tr>\n",
              "    <tr>\n",
              "      <th>13671</th>\n",
              "      <td>india is usually quiet during july but it is never busy in spring</td>\n",
              "      <td>india is usually quiet during july  but it is never busy in spring \\n</td>\n",
              "    </tr>\n",
              "    <tr>\n",
              "      <th>1271</th>\n",
              "      <td>china is sometimes mild during october and it is never beautiful in summer</td>\n",
              "      <td>china is sometimes mild during october  and it is never beautiful in summer \\n</td>\n",
              "    </tr>\n",
              "    <tr>\n",
              "      <th>18165</th>\n",
              "      <td>they like lemons strawberries and bananas</td>\n",
              "      <td>they like lemons  strawberries  and bananas \\n</td>\n",
              "    </tr>\n",
              "    <tr>\n",
              "      <th>2073</th>\n",
              "      <td>elephants were her most feared animals</td>\n",
              "      <td>elephants were his most feared animals \\n</td>\n",
              "    </tr>\n",
              "    <tr>\n",
              "      <th>21271</th>\n",
              "      <td>india is wonderful during january but it is wet in august</td>\n",
              "      <td>india is wonderful during january  but it is wet in august \\n</td>\n",
              "    </tr>\n",
              "    <tr>\n",
              "      <th>7219</th>\n",
              "      <td>birds are my most loved animals</td>\n",
              "      <td>birds are my most loved animals \\n</td>\n",
              "    </tr>\n",
              "    <tr>\n",
              "      <th>26859</th>\n",
              "      <td>their least favorite fruit is the banana but your least favorite is the lime</td>\n",
              "      <td>their least favorite fruit is the banana  but your least favorite is the lime \\n</td>\n",
              "    </tr>\n",
              "    <tr>\n",
              "      <th>26195</th>\n",
              "      <td>the united states is hot during summer but it is never rainy in august</td>\n",
              "      <td>the united states is hot during summer  but it is never rainy in august \\n</td>\n",
              "    </tr>\n",
              "    <tr>\n",
              "      <th>18591</th>\n",
              "      <td>new jersey is usually nice during february but it is usually cold in october</td>\n",
              "      <td>new jersey is usually pleasant during february  but it is usually chilly in october \\n</td>\n",
              "    </tr>\n",
              "  </tbody>\n",
              "</table>\n",
              "</div>"
            ],
            "text/plain": [
              "                                                                                    predicted                                                                                  actual\n",
              "15880               california is never busy during fall and it is usually nice in may                     california is never busy during fall  and it is usually pleasant in may \\n\n",
              "17972                the orange is my most loved fruit but the grape is your most loved                        the orange is my most loved fruit  but the grape is your most loved \\n\n",
              "24585                              he likes peaches grapefruit and strawberries                                                     he likes peaches  grapefruit  and strawberries \\n\n",
              "5729                      my favorite fruit is the pear but her favorite is the lemon                                 my favorite fruit is the pear  but her favorite is the lemon \\n\n",
              "12862         the grape is your least favorite fruit but the lemon is my least favorite                 the grape is your least favorite fruit  but the lemon is my least favorite \\n\n",
              "12664                                         she was driving that old black car                                                         she was driving that old black automobile \\n\n",
              "23511         india is usually beautiful during may but it is never quiet in september                   india is usually beautiful during may  but it is never quiet in september \\n\n",
              "18470      our least favorite fruit is the orange but their least favorite is the apple              our least favorite fruit is the orange  but their least favorite is the apple \\n\n",
              "8999             paris is usually rainy during winter but it is usually busy in summer                      paris is usually rainy during winter  but it is usually busy in summer \\n\n",
              "4230               paris is sometimes relaxing during summer but it is rainy in march                          paris is sometimes relaxing during summer  but it is rainy in march \\n\n",
              "22672                                            she dislikes pears and apples                                                                       she dislikes pears and apples \\n\n",
              "26225               china is quiet during september and it is sometimes busy in march                           china is quiet during september  and it is sometimes busy in march \\n\n",
              "11181          the peach is her least favorite fruit but the pear is her least favorite                  the peach is her least favorite fruit  but the pear is his least favorite \\n\n",
              "21261             the strawberry is your favorite fruit but the apple is her favorite                          the strawberry is your favorite fruit  but the apple is his favorite\\n\n",
              "12462         her least favorite fruit is the apple but my least favorite is the orange                 his least favorite fruit is the apple  but my least favorite is the orange \\n\n",
              "10124                                               she likes a shiny white car                                                                        she likes a shiny white car \\n\n",
              "21887                                       they dislike grapefruit and grapes                                                                  they dislike grapefruit and grapes \\n\n",
              "5755                                        her most feared animal was this bear                                                              her most feared animal was that bear \\n\n",
              "4349                 the grape is their favorite fruit but the mango is your favorite                            the grape is their favorite fruit  but the mango is your favorite \\n\n",
              "16880                                     she was driving the big red automobile                                                            she was driving the big red automobile \\n\n",
              "14990                the lemon is their most loved fruit but the pear is her most loved                        the lemon is their most loved fruit  but the pear is her most loved \\n\n",
              "1737                                     he dislikes apples oranges and mangoes                                                           he dislikes apples  oranges  and mangoes \\n\n",
              "15838          the grapefruit is my least liked fruit but the grape is your least liked                  the grapefruit is my least liked fruit  but the grape is your least liked \\n\n",
              "3532                 new jersey is rainy during april but it is freezing in september                            new jersey is rainy during april  but it is freezing in september \\n\n",
              "8814            france is sometimes rainy during autumn but it is never snowy in april                     france is sometimes rainy during autumn  but it is never snowy in april \\n\n",
              "10584               india is never hot during fall and it is sometimes cold in january                       india is never hot during autumn  and it is sometimes cold in january \\n\n",
              "24150                  her most loved fruit is the apple but my most loved is the peach                          her most loved fruit is the apple  but my most loved is the peach \\n\n",
              "25080          california is nice during spring but it is usually beautiful in august                  california is pleasant during spring  but it is usually beautiful in august \\n\n",
              "8973   california is sometimes mild during april but it is never beautiful in february            california is sometimes mild during april  but it is never beautiful in february \\n\n",
              "20663                 her least liked fruit is the grape but my least liked is the pear                          her least liked fruit is the grape  but my least liked is the pear\\n\n",
              "21192                                                he likes the big black car                                                                  he likes the big black automobile \\n\n",
              "9539                 paris is sometimes busy during may but it is never wet in october                          paris is sometimes busy during may  but it is never wet in october \\n\n",
              "14486                                    he was driving the old black automobile                                                                  he was driving the old black car \\n\n",
              "11568          paris is never wet during autumn and it is sometimes freezing in winter                    paris is never wet during autumn  and it is sometimes freezing in winter \\n\n",
              "14611                                    he likes limes strawberries and lemons                                                           he likes strawberries  limes  and lemons \\n\n",
              "4876          california is usually dry during september but it is usually busy in may                   california is usually dry during september  but it is usually busy in may \\n\n",
              "23908              their favorite fruit is the strawberry but my favorite is the lime                           their favorite fruit is the strawberry  but my favorite is the lime\\n\n",
              "10575                     india is chilly during february and it is never dry in june                                   india is cold during february  and it is never dry in june \\n\n",
              "12443                                      we dislike mangoes limes and peaches                                                              we dislike mangoes  limes  and peaches\\n\n",
              "16802      california is never pleasant during fall but it is usually busy in february              california is never pleasant during autumn  but it is usually busy in february \\n\n",
              "14839          the strawberry is her least liked fruit but the peach is our least liked                  the strawberry is her least liked fruit  but the peach is our least liked \\n\n",
              "13671                india is usually quiet during july but it is never busy in spring                          india is usually quiet during july  but it is never busy in spring \\n\n",
              "1271        china is sometimes mild during october and it is never beautiful in summer                 china is sometimes mild during october  and it is never beautiful in summer \\n\n",
              "18165                                 they like lemons strawberries and bananas                                                        they like lemons  strawberries  and bananas \\n\n",
              "2073                                     elephants were her most feared animals                                                             elephants were his most feared animals \\n\n",
              "21271                      india is wonderful during january but it is wet in august                                    india is wonderful during january  but it is wet in august \\n\n",
              "7219                                            birds are my most loved animals                                                                    birds are my most loved animals \\n\n",
              "26859      their least favorite fruit is the banana but your least favorite is the lime              their least favorite fruit is the banana  but your least favorite is the lime \\n\n",
              "26195            the united states is hot during summer but it is never rainy in august                    the united states is hot during summer  but it is never rainy in august \\n\n",
              "18591      new jersey is usually nice during february but it is usually cold in october        new jersey is usually pleasant during february  but it is usually chilly in october \\n"
            ]
          },
          "metadata": {
            "tags": []
          },
          "execution_count": 34
        }
      ]
    }
  ]
}